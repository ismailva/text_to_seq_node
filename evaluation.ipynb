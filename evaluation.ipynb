{
 "cells": [
  {
   "cell_type": "code",
   "execution_count": 10,
   "metadata": {},
   "outputs": [],
   "source": [
    "import requests\n",
    "\n",
    "API_ENDPOINT = \"http://127.0.0.1:8080/getnode\"\n",
    "\n",
    "def translate(user_input:str) -> str:\n",
    "    output = \"\"\n",
    "    try:\n",
    "        payload = {\n",
    "            \"query\": user_input,\n",
    "        }\n",
    "        response = requests.post(API_ENDPOINT, json=payload, timeout=60, verify=False)\n",
    "        response_data = response.json()\n",
    "        output=response_data[\"sequence\"]\n",
    "    except Exception as e:\n",
    "        print(e)\n",
    "    return output"
   ]
  },
  {
   "cell_type": "code",
   "execution_count": 11,
   "metadata": {},
   "outputs": [
    {
     "data": {
      "text/plain": [
       "\"['OnMouseEnter', 'Highlight', 'OnMouseLeave', 'Hide']\""
      ]
     },
     "execution_count": 11,
     "metadata": {},
     "output_type": "execute_result"
    }
   ],
   "source": [
    "translate(\"Highlight an element when the mouse enters it and remove the highlight when the mouse leaves.\")"
   ]
  },
  {
   "cell_type": "code",
   "execution_count": 12,
   "metadata": {},
   "outputs": [],
   "source": [
    "csv_file_path = \"ground_truth.csv\""
   ]
  },
  {
   "cell_type": "code",
   "execution_count": 13,
   "metadata": {},
   "outputs": [
    {
     "data": {
      "text/html": [
       "<div>\n",
       "<style scoped>\n",
       "    .dataframe tbody tr th:only-of-type {\n",
       "        vertical-align: middle;\n",
       "    }\n",
       "\n",
       "    .dataframe tbody tr th {\n",
       "        vertical-align: top;\n",
       "    }\n",
       "\n",
       "    .dataframe thead th {\n",
       "        text-align: right;\n",
       "    }\n",
       "</style>\n",
       "<table border=\"1\" class=\"dataframe\">\n",
       "  <thead>\n",
       "    <tr style=\"text-align: right;\">\n",
       "      <th></th>\n",
       "      <th>input</th>\n",
       "      <th>expected_sequence</th>\n",
       "    </tr>\n",
       "  </thead>\n",
       "  <tbody>\n",
       "    <tr>\n",
       "      <th>0</th>\n",
       "      <td>Navigate to a new page after a delay of 3 seco...</td>\n",
       "      <td>['OnClick', 'Delay', 'Navigate']</td>\n",
       "    </tr>\n",
       "    <tr>\n",
       "      <th>1</th>\n",
       "      <td>Fetch user data and display it in a modal when...</td>\n",
       "      <td>['OnClick', 'FetchData', 'DisplayModal']</td>\n",
       "    </tr>\n",
       "    <tr>\n",
       "      <th>2</th>\n",
       "      <td>Reduce a list of scores to find the highest sc...</td>\n",
       "      <td>['Reduce', 'Log']</td>\n",
       "    </tr>\n",
       "    <tr>\n",
       "      <th>3</th>\n",
       "      <td>Cache fetched data to improve performance and ...</td>\n",
       "      <td>['FetchData', 'CacheData', 'Show']</td>\n",
       "    </tr>\n",
       "    <tr>\n",
       "      <th>4</th>\n",
       "      <td>Log a message when a key is pressed and displa...</td>\n",
       "      <td>['OnKeyPress', 'Log', 'Show']</td>\n",
       "    </tr>\n",
       "    <tr>\n",
       "      <th>5</th>\n",
       "      <td>Highlight an element when the mouse enters it ...</td>\n",
       "      <td>['OnMouseEnter', 'Highlight', 'OnMouseLeave', ...</td>\n",
       "    </tr>\n",
       "    <tr>\n",
       "      <th>6</th>\n",
       "      <td>Filter out items that are out of stock and sor...</td>\n",
       "      <td>['Filter', 'Sort', 'Show']</td>\n",
       "    </tr>\n",
       "  </tbody>\n",
       "</table>\n",
       "</div>"
      ],
      "text/plain": [
       "                                               input  \\\n",
       "0  Navigate to a new page after a delay of 3 seco...   \n",
       "1  Fetch user data and display it in a modal when...   \n",
       "2  Reduce a list of scores to find the highest sc...   \n",
       "3  Cache fetched data to improve performance and ...   \n",
       "4  Log a message when a key is pressed and displa...   \n",
       "5  Highlight an element when the mouse enters it ...   \n",
       "6  Filter out items that are out of stock and sor...   \n",
       "\n",
       "                                   expected_sequence  \n",
       "0                   ['OnClick', 'Delay', 'Navigate']  \n",
       "1           ['OnClick', 'FetchData', 'DisplayModal']  \n",
       "2                                  ['Reduce', 'Log']  \n",
       "3                 ['FetchData', 'CacheData', 'Show']  \n",
       "4                      ['OnKeyPress', 'Log', 'Show']  \n",
       "5  ['OnMouseEnter', 'Highlight', 'OnMouseLeave', ...  \n",
       "6                         ['Filter', 'Sort', 'Show']  "
      ]
     },
     "execution_count": 13,
     "metadata": {},
     "output_type": "execute_result"
    }
   ],
   "source": [
    "import pandas as pd\n",
    "evaluation_df = pd.read_csv(csv_file_path)\n",
    "evaluation_df"
   ]
  },
  {
   "cell_type": "code",
   "execution_count": 14,
   "metadata": {},
   "outputs": [
    {
     "data": {
      "text/html": [
       "<div>\n",
       "<style scoped>\n",
       "    .dataframe tbody tr th:only-of-type {\n",
       "        vertical-align: middle;\n",
       "    }\n",
       "\n",
       "    .dataframe tbody tr th {\n",
       "        vertical-align: top;\n",
       "    }\n",
       "\n",
       "    .dataframe thead th {\n",
       "        text-align: right;\n",
       "    }\n",
       "</style>\n",
       "<table border=\"1\" class=\"dataframe\">\n",
       "  <thead>\n",
       "    <tr style=\"text-align: right;\">\n",
       "      <th></th>\n",
       "      <th>input</th>\n",
       "      <th>expected_sequence</th>\n",
       "      <th>predicted_sequence</th>\n",
       "    </tr>\n",
       "  </thead>\n",
       "  <tbody>\n",
       "    <tr>\n",
       "      <th>0</th>\n",
       "      <td>Navigate to a new page after a delay of 3 seco...</td>\n",
       "      <td>['OnClick', 'Delay', 'Navigate']</td>\n",
       "      <td>['OnClick', 'OnTimer', 'Navigate']</td>\n",
       "    </tr>\n",
       "    <tr>\n",
       "      <th>1</th>\n",
       "      <td>Fetch user data and display it in a modal when...</td>\n",
       "      <td>['OnClick', 'FetchData', 'DisplayModal']</td>\n",
       "      <td>['OnClick', 'FetchData', 'DisplayModal']</td>\n",
       "    </tr>\n",
       "    <tr>\n",
       "      <th>2</th>\n",
       "      <td>Reduce a list of scores to find the highest sc...</td>\n",
       "      <td>['Reduce', 'Log']</td>\n",
       "      <td>['Reduce', 'Log']</td>\n",
       "    </tr>\n",
       "    <tr>\n",
       "      <th>3</th>\n",
       "      <td>Cache fetched data to improve performance and ...</td>\n",
       "      <td>['FetchData', 'CacheData', 'Show']</td>\n",
       "      <td>['FetchData', 'CacheData', 'Show']</td>\n",
       "    </tr>\n",
       "    <tr>\n",
       "      <th>4</th>\n",
       "      <td>Log a message when a key is pressed and displa...</td>\n",
       "      <td>['OnKeyPress', 'Log', 'Show']</td>\n",
       "      <td>['OnKeyPress', 'Log', 'Show']</td>\n",
       "    </tr>\n",
       "    <tr>\n",
       "      <th>5</th>\n",
       "      <td>Highlight an element when the mouse enters it ...</td>\n",
       "      <td>['OnMouseEnter', 'Highlight', 'OnMouseLeave', ...</td>\n",
       "      <td>['OnMouseEnter', 'Highlight', 'OnMouseLeave', ...</td>\n",
       "    </tr>\n",
       "    <tr>\n",
       "      <th>6</th>\n",
       "      <td>Filter out items that are out of stock and sor...</td>\n",
       "      <td>['Filter', 'Sort', 'Show']</td>\n",
       "      <td>['Filter', 'Sort', 'Show']</td>\n",
       "    </tr>\n",
       "  </tbody>\n",
       "</table>\n",
       "</div>"
      ],
      "text/plain": [
       "                                               input  \\\n",
       "0  Navigate to a new page after a delay of 3 seco...   \n",
       "1  Fetch user data and display it in a modal when...   \n",
       "2  Reduce a list of scores to find the highest sc...   \n",
       "3  Cache fetched data to improve performance and ...   \n",
       "4  Log a message when a key is pressed and displa...   \n",
       "5  Highlight an element when the mouse enters it ...   \n",
       "6  Filter out items that are out of stock and sor...   \n",
       "\n",
       "                                   expected_sequence  \\\n",
       "0                   ['OnClick', 'Delay', 'Navigate']   \n",
       "1           ['OnClick', 'FetchData', 'DisplayModal']   \n",
       "2                                  ['Reduce', 'Log']   \n",
       "3                 ['FetchData', 'CacheData', 'Show']   \n",
       "4                      ['OnKeyPress', 'Log', 'Show']   \n",
       "5  ['OnMouseEnter', 'Highlight', 'OnMouseLeave', ...   \n",
       "6                         ['Filter', 'Sort', 'Show']   \n",
       "\n",
       "                                  predicted_sequence  \n",
       "0                 ['OnClick', 'OnTimer', 'Navigate']  \n",
       "1           ['OnClick', 'FetchData', 'DisplayModal']  \n",
       "2                                  ['Reduce', 'Log']  \n",
       "3                 ['FetchData', 'CacheData', 'Show']  \n",
       "4                      ['OnKeyPress', 'Log', 'Show']  \n",
       "5  ['OnMouseEnter', 'Highlight', 'OnMouseLeave', ...  \n",
       "6                         ['Filter', 'Sort', 'Show']  "
      ]
     },
     "execution_count": 14,
     "metadata": {},
     "output_type": "execute_result"
    }
   ],
   "source": [
    "evaluation_df[\"predicted_sequence\"] = evaluation_df[\"input\"].apply(translate)\n",
    "evaluation_df"
   ]
  },
  {
   "cell_type": "code",
   "execution_count": 15,
   "metadata": {},
   "outputs": [
    {
     "data": {
      "text/html": [
       "<div>\n",
       "<style scoped>\n",
       "    .dataframe tbody tr th:only-of-type {\n",
       "        vertical-align: middle;\n",
       "    }\n",
       "\n",
       "    .dataframe tbody tr th {\n",
       "        vertical-align: top;\n",
       "    }\n",
       "\n",
       "    .dataframe thead th {\n",
       "        text-align: right;\n",
       "    }\n",
       "</style>\n",
       "<table border=\"1\" class=\"dataframe\">\n",
       "  <thead>\n",
       "    <tr style=\"text-align: right;\">\n",
       "      <th></th>\n",
       "      <th>input</th>\n",
       "      <th>expected_sequence</th>\n",
       "      <th>predicted_sequence</th>\n",
       "      <th>correct</th>\n",
       "    </tr>\n",
       "  </thead>\n",
       "  <tbody>\n",
       "    <tr>\n",
       "      <th>0</th>\n",
       "      <td>Navigate to a new page after a delay of 3 seco...</td>\n",
       "      <td>['OnClick', 'Delay', 'Navigate']</td>\n",
       "      <td>['OnClick', 'OnTimer', 'Navigate']</td>\n",
       "      <td>False</td>\n",
       "    </tr>\n",
       "    <tr>\n",
       "      <th>1</th>\n",
       "      <td>Fetch user data and display it in a modal when...</td>\n",
       "      <td>['OnClick', 'FetchData', 'DisplayModal']</td>\n",
       "      <td>['OnClick', 'FetchData', 'DisplayModal']</td>\n",
       "      <td>True</td>\n",
       "    </tr>\n",
       "    <tr>\n",
       "      <th>2</th>\n",
       "      <td>Reduce a list of scores to find the highest sc...</td>\n",
       "      <td>['Reduce', 'Log']</td>\n",
       "      <td>['Reduce', 'Log']</td>\n",
       "      <td>True</td>\n",
       "    </tr>\n",
       "    <tr>\n",
       "      <th>3</th>\n",
       "      <td>Cache fetched data to improve performance and ...</td>\n",
       "      <td>['FetchData', 'CacheData', 'Show']</td>\n",
       "      <td>['FetchData', 'CacheData', 'Show']</td>\n",
       "      <td>True</td>\n",
       "    </tr>\n",
       "    <tr>\n",
       "      <th>4</th>\n",
       "      <td>Log a message when a key is pressed and displa...</td>\n",
       "      <td>['OnKeyPress', 'Log', 'Show']</td>\n",
       "      <td>['OnKeyPress', 'Log', 'Show']</td>\n",
       "      <td>True</td>\n",
       "    </tr>\n",
       "    <tr>\n",
       "      <th>5</th>\n",
       "      <td>Highlight an element when the mouse enters it ...</td>\n",
       "      <td>['OnMouseEnter', 'Highlight', 'OnMouseLeave', ...</td>\n",
       "      <td>['OnMouseEnter', 'Highlight', 'OnMouseLeave', ...</td>\n",
       "      <td>False</td>\n",
       "    </tr>\n",
       "    <tr>\n",
       "      <th>6</th>\n",
       "      <td>Filter out items that are out of stock and sor...</td>\n",
       "      <td>['Filter', 'Sort', 'Show']</td>\n",
       "      <td>['Filter', 'Sort', 'Show']</td>\n",
       "      <td>True</td>\n",
       "    </tr>\n",
       "  </tbody>\n",
       "</table>\n",
       "</div>"
      ],
      "text/plain": [
       "                                               input  \\\n",
       "0  Navigate to a new page after a delay of 3 seco...   \n",
       "1  Fetch user data and display it in a modal when...   \n",
       "2  Reduce a list of scores to find the highest sc...   \n",
       "3  Cache fetched data to improve performance and ...   \n",
       "4  Log a message when a key is pressed and displa...   \n",
       "5  Highlight an element when the mouse enters it ...   \n",
       "6  Filter out items that are out of stock and sor...   \n",
       "\n",
       "                                   expected_sequence  \\\n",
       "0                   ['OnClick', 'Delay', 'Navigate']   \n",
       "1           ['OnClick', 'FetchData', 'DisplayModal']   \n",
       "2                                  ['Reduce', 'Log']   \n",
       "3                 ['FetchData', 'CacheData', 'Show']   \n",
       "4                      ['OnKeyPress', 'Log', 'Show']   \n",
       "5  ['OnMouseEnter', 'Highlight', 'OnMouseLeave', ...   \n",
       "6                         ['Filter', 'Sort', 'Show']   \n",
       "\n",
       "                                  predicted_sequence  correct  \n",
       "0                 ['OnClick', 'OnTimer', 'Navigate']    False  \n",
       "1           ['OnClick', 'FetchData', 'DisplayModal']     True  \n",
       "2                                  ['Reduce', 'Log']     True  \n",
       "3                 ['FetchData', 'CacheData', 'Show']     True  \n",
       "4                      ['OnKeyPress', 'Log', 'Show']     True  \n",
       "5  ['OnMouseEnter', 'Highlight', 'OnMouseLeave', ...    False  \n",
       "6                         ['Filter', 'Sort', 'Show']     True  "
      ]
     },
     "execution_count": 15,
     "metadata": {},
     "output_type": "execute_result"
    }
   ],
   "source": [
    "# if predicted_sequence is same as expected_sequence, then it is correct\n",
    "evaluation_df[\"correct\"] = evaluation_df[\"predicted_sequence\"] == evaluation_df[\"expected_sequence\"]\n",
    "evaluation_df"
   ]
  },
  {
   "cell_type": "code",
   "execution_count": 16,
   "metadata": {},
   "outputs": [],
   "source": [
    "evaluation_df.to_csv(\"evaluation_results.csv\", index=False)"
   ]
  },
  {
   "cell_type": "code",
   "execution_count": 17,
   "metadata": {},
   "outputs": [],
   "source": [
    "#based on the above evaluation_df, we can calculate the accuracy as follows:\n",
    "accuracy = evaluation_df[\"correct\"].sum() / len(evaluation_df)"
   ]
  },
  {
   "cell_type": "code",
   "execution_count": 18,
   "metadata": {},
   "outputs": [
    {
     "name": "stdout",
     "output_type": "stream",
     "text": [
      "0.7142857142857143\n"
     ]
    }
   ],
   "source": [
    "print(accuracy)"
   ]
  },
  {
   "cell_type": "code",
   "execution_count": null,
   "metadata": {},
   "outputs": [],
   "source": []
  }
 ],
 "metadata": {
  "kernelspec": {
   "display_name": "Python 3",
   "language": "python",
   "name": "python3"
  },
  "language_info": {
   "codemirror_mode": {
    "name": "ipython",
    "version": 3
   },
   "file_extension": ".py",
   "mimetype": "text/x-python",
   "name": "python",
   "nbconvert_exporter": "python",
   "pygments_lexer": "ipython3",
   "version": "3.9.6"
  }
 },
 "nbformat": 4,
 "nbformat_minor": 2
}
